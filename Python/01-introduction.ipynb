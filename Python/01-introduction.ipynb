{
 "cells": [
  {
   "cell_type": "markdown",
   "metadata": {},
   "source": [
    "# Say \"Hello, World!\" With Python\n",
    "\n",
    "Here is a sample line of code that can be executed in Python:\n",
    "\n",
    "    print(\"Hello, World!\")\n",
    "\n",
    "You can just as easily store a string as a variable and then print it to stdout:\n",
    "\n",
    "    my_string = \"Hello, World!\"\n",
    "    print(my_string)\n",
    "\n",
    "The above code will print Hello, World! on your screen. Try it yourself in the editor below!\n",
    "\n",
    "**Input Format**\n",
    "\n",
    "You do not need to read any input in this challenge.\n",
    "\n",
    "**Output Format**\n",
    "\n",
    "Print Hello, World! to stdout.\n",
    "\n",
    "**Sample Output 0**\n",
    "\n",
    "    Hello, World!\n",
    "\n"
   ]
  },
  {
   "cell_type": "code",
   "execution_count": 1,
   "metadata": {},
   "outputs": [
    {
     "name": "stdout",
     "output_type": "stream",
     "text": [
      "Hello, World!\n"
     ]
    }
   ],
   "source": [
    "if __name__ == '__main__':\n",
    "    print(\"Hello, World!\")"
   ]
  },
  {
   "cell_type": "markdown",
   "metadata": {},
   "source": [
    "# Python If-Else\n",
    "\n",
    "Task\n",
    "Given an integer, $n$ , perform the following conditional actions:\n",
    "\n",
    "- If $n$ is odd, print Weird\n",
    "- If $n$ is even and in the inclusive range of to print Not Weird\n",
    "- If $n$ is even and in the inclusive range of to , print Weird\n",
    "- If $n$ is even and greater than , print Not Weird\n",
    "\n",
    "**Input Format**\n",
    "\n",
    "A single line containing a positive integer, $n$ .\n",
    "\n",
    "**Constraints**\n",
    "\n",
    "$ 1 \\leq n \\leq 100$\n",
    "\n",
    "**Output Format**\n",
    "\n",
    "Print `Weird` if the number is weird; otherwise, print `Not Weird`.\n",
    "\n",
    "**Sample Input 0**\n",
    "\n",
    "    3\n",
    "\n",
    "**Sample Output 0**\n",
    "\n",
    "    Weird\n",
    "\n",
    "**Explanation 0**\n",
    "\n",
    "$n=3$\n",
    "$n$ is odd and odd numbers are weird, so we print `Weird`.\n",
    "\n",
    "**Sample Input 1**\n",
    "\n",
    "    24\n",
    "\n",
    "**Sample Output 1**\n",
    "\n",
    "    Not Weird\n",
    "\n",
    "**Explanation 1**\n",
    "\n",
    "$n = 24 $\n",
    "\n",
    "$n \\gt 20$ and $n$ is even, so it isn't weird. Thus, we print `Not Weird`."
   ]
  },
  {
   "cell_type": "code",
   "execution_count": 2,
   "metadata": {},
   "outputs": [],
   "source": [
    "if __name__ == '__main__':\n",
    "    n = int(input())"
   ]
  },
  {
   "cell_type": "code",
   "execution_count": 18,
   "metadata": {},
   "outputs": [],
   "source": [
    "def check_weird():\n",
    "    n = int(input())\n",
    "    \n",
    "    # if n is odd, print Weird\n",
    "    if n % 2 != 0:\n",
    "        print(\"Weird\")\n",
    "        \n",
    "    # if n is even \n",
    "    else:\n",
    "        \n",
    "        # if n is in the inclusive range of 2 to 5, print Not Weird\n",
    "        if n in range(2, 6):\n",
    "            print(\"Not Weird\")\n",
    "        \n",
    "        # if n is in the inclusive range of 6 to 20, print Weird\n",
    "        elif n in range(6, 21):\n",
    "            print(\"Weird\")\n",
    "            \n",
    "        # if n is greater than 20, print Not Weird\n",
    "        else:\n",
    "            print(\"Not Weird\")\n",
    "            "
   ]
  },
  {
   "cell_type": "code",
   "execution_count": 21,
   "metadata": {},
   "outputs": [
    {
     "name": "stdout",
     "output_type": "stream",
     "text": [
      "Not Weird\n"
     ]
    }
   ],
   "source": [
    "if __name__ == '__main__':\n",
    "    check_weird()"
   ]
  },
  {
   "cell_type": "markdown",
   "metadata": {},
   "source": [
    "# Arithmetic Operators\n",
    "\n",
    "**Task**\n",
    "\n",
    "Read two integers from STDIN and print three lines where:\n",
    "\n",
    "    The first line contains the sum of the two numbers.\n",
    "    The second line contains the difference of the two numbers (first - second).\n",
    "    The third line contains the product of the two numbers.\n",
    "\n",
    "**Input Format**\n",
    "\n",
    "The first line contains the first integer, $a$ . The second line contains the second integer, $b$. \n",
    "\n",
    "**Constraints**\n",
    "\n",
    "$1 \\leq a \\leq 10^{10}$\n",
    "\n",
    "$1 \\leq b \\leq 10^{10}$\n",
    "\n",
    "**Output Format**\n",
    "\n",
    "Print the three lines as explained above.\n",
    "\n",
    "**Sample Input 0**\n",
    "\n",
    "    3\n",
    "    2\n",
    "\n",
    "**Sample Output 0**\n",
    "\n",
    "    5\n",
    "    1\n",
    "    6\n",
    "\n"
   ]
  },
  {
   "cell_type": "code",
   "execution_count": 22,
   "metadata": {},
   "outputs": [],
   "source": [
    "def arithmetic_ops(a, b):\n",
    "    print(a+b)\n",
    "    print(a-b)\n",
    "    print(a*b)"
   ]
  },
  {
   "cell_type": "code",
   "execution_count": 23,
   "metadata": {},
   "outputs": [
    {
     "name": "stdout",
     "output_type": "stream",
     "text": [
      "5\n",
      "1\n",
      "6\n"
     ]
    }
   ],
   "source": [
    "if __name__ == '__main__':\n",
    "    a = int(input())\n",
    "    b = int(input())\n",
    "    arithmetic_ops(a, b)\n"
   ]
  },
  {
   "cell_type": "markdown",
   "metadata": {},
   "source": [
    "# Python: Division\n",
    "\n",
    "**Task**\n",
    "\n",
    "Read two integers and print two lines. The first line should contain integer division, // . The second line should contain float division, / .\n",
    "\n",
    "You don't need to perform any rounding or formatting operations.\n",
    "\n",
    "**Input Format**\n",
    "\n",
    "The first line contains the first integer, . The second line contains the second integer, .\n",
    "\n",
    "**Output Format**\n",
    "\n",
    "Print the two lines as described above.\n",
    "\n",
    "**Sample Input 0**\n",
    "\n",
    "    4\n",
    "    3\n",
    "\n",
    "**Sample Output 0**\n",
    "\n",
    "    1\n",
    "    1.33333333333\n",
    "\n"
   ]
  },
  {
   "cell_type": "code",
   "execution_count": 30,
   "metadata": {},
   "outputs": [],
   "source": [
    "def division(a, b):\n",
    "    \n",
    "    # Integer division is achieved by using //, and modulo by using %\n",
    "    print(a // b)\n",
    "    \n",
    "    # float division\n",
    "    print(a / b)"
   ]
  },
  {
   "cell_type": "code",
   "execution_count": 31,
   "metadata": {},
   "outputs": [
    {
     "name": "stdout",
     "output_type": "stream",
     "text": [
      "1\n",
      "1.3333333333333333\n"
     ]
    }
   ],
   "source": [
    "if __name__ == '__main__':\n",
    "    a = int(input())\n",
    "    b = int(input())\n",
    "    division(a, b)\n"
   ]
  },
  {
   "cell_type": "markdown",
   "metadata": {},
   "source": [
    "# Loops\n",
    "\n",
    "**Task**\n",
    "\n",
    "Read an integer $N$. For all non-negative integers $i \\leq N$, print $i^2$ . See the sample for details. \n",
    "\n",
    "**Input Format**\n",
    "\n",
    "The first and only line contains the integer, $N$.\n",
    "\n",
    "**Constraints**\n",
    "\n",
    "$1 \\leq N \\leq 20$\n",
    "\n",
    "**Output Format**\n",
    "\n",
    "Print $N$ lines, one corresponding to each $i$.\n",
    "\n",
    "**Sample Input 0**\n",
    "\n",
    "    5\n",
    "\n",
    "**Sample Output 0**\n",
    "\n",
    "    0\n",
    "    1\n",
    "    4\n",
    "    9\n",
    "    16\n",
    "\n"
   ]
  },
  {
   "cell_type": "code",
   "execution_count": null,
   "metadata": {},
   "outputs": [],
   "source": []
  }
 ],
 "metadata": {
  "kernelspec": {
   "display_name": "Python 3",
   "language": "python",
   "name": "python3"
  },
  "language_info": {
   "codemirror_mode": {
    "name": "ipython",
    "version": 3
   },
   "file_extension": ".py",
   "mimetype": "text/x-python",
   "name": "python",
   "nbconvert_exporter": "python",
   "pygments_lexer": "ipython3",
   "version": "3.6.4"
  }
 },
 "nbformat": 4,
 "nbformat_minor": 2
}
